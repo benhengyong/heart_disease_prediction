{
 "cells": [
  {
   "cell_type": "code",
   "execution_count": 3,
   "id": "bc6460f0",
   "metadata": {},
   "outputs": [
    {
     "ename": "OperationalError",
     "evalue": "table heartdisease already exists",
     "output_type": "error",
     "traceback": [
      "\u001b[1;31m---------------------------------------------------------------------------\u001b[0m",
      "\u001b[1;31mOperationalError\u001b[0m                          Traceback (most recent call last)",
      "Cell \u001b[1;32mIn[3], line 12\u001b[0m\n\u001b[0;32m      9\u001b[0m conn \u001b[38;5;241m=\u001b[39m sqlite3\u001b[38;5;241m.\u001b[39mconnect(database_path)\n\u001b[0;32m     10\u001b[0m c \u001b[38;5;241m=\u001b[39m conn\u001b[38;5;241m.\u001b[39mcursor()\n\u001b[1;32m---> 12\u001b[0m \u001b[43mc\u001b[49m\u001b[38;5;241;43m.\u001b[39;49m\u001b[43mexecute\u001b[49m\u001b[43m(\u001b[49m\u001b[38;5;124;43m'''\u001b[39;49m\u001b[38;5;124;43mCREATE TABLE heartdisease ( Age int, Sex int, Chest pain type int, BP int, Cholesterol int, FBS over 120 int, EKG results int, Max HR int, Exercise angina int, ST depression float, Slope of ST int, Number of vessels fluro int, Thallium int, Heart Disease text, Patient ID int)\u001b[39;49m\u001b[38;5;124;43m'''\u001b[39;49m\u001b[43m)\u001b[49m\n\u001b[0;32m     14\u001b[0m csv_heart_disease \u001b[38;5;241m=\u001b[39m pd\u001b[38;5;241m.\u001b[39mread_csv(\u001b[38;5;124m\"\u001b[39m\u001b[38;5;124mHeart Disease - FOR ML.csv\u001b[39m\u001b[38;5;124m\"\u001b[39m)\n\u001b[0;32m     15\u001b[0m csv_heart_disease\u001b[38;5;241m.\u001b[39mto_sql(\u001b[38;5;124m\"\u001b[39m\u001b[38;5;124mheart_disease\u001b[39m\u001b[38;5;124m\"\u001b[39m, conn, if_exists\u001b[38;5;241m=\u001b[39m\u001b[38;5;124m'\u001b[39m\u001b[38;5;124mappend\u001b[39m\u001b[38;5;124m'\u001b[39m, index\u001b[38;5;241m=\u001b[39m\u001b[38;5;28;01mFalse\u001b[39;00m)\n",
      "\u001b[1;31mOperationalError\u001b[0m: table heartdisease already exists"
     ]
    }
   ],
   "source": [
    "import sqlite3\n",
    "import pandas as pd\n",
    "\n",
    "from pathlib import Path\n",
    "\n",
    "database_path = \"heart_disease.sqlite\"\n",
    "Path(database_path).touch()\n",
    "\n",
    "conn = sqlite3.connect(database_path)\n",
    "c = conn.cursor()\n",
    "\n",
    "c.execute('''CREATE TABLE heartdisease ( Age int, Sex int, Chest pain type int, BP int, Cholesterol int, FBS over 120 int, EKG results int, Max HR int, Exercise angina int, ST depression float, Slope of ST int, Number of vessels fluro int, Thallium int, Heart Disease text, Patient ID int)''')\n",
    "\n",
    "csv_heart_disease = pd.read_csv(\"Heart Disease - FOR ML.csv\")\n",
    "csv_heart_disease.to_sql(\"heart_disease\", conn, if_exists='append', index=False)\n",
    "\n",
    "conn.close()"
   ]
  },
  {
   "cell_type": "code",
   "execution_count": null,
   "id": "8d636d96",
   "metadata": {},
   "outputs": [],
   "source": []
  }
 ],
 "metadata": {
  "kernelspec": {
   "display_name": "Python 3 (ipykernel)",
   "language": "python",
   "name": "python3"
  },
  "language_info": {
   "codemirror_mode": {
    "name": "ipython",
    "version": 3
   },
   "file_extension": ".py",
   "mimetype": "text/x-python",
   "name": "python",
   "nbconvert_exporter": "python",
   "pygments_lexer": "ipython3",
   "version": "3.10.13"
  }
 },
 "nbformat": 4,
 "nbformat_minor": 5
}
