{
 "cells": [
  {
   "cell_type": "code",
   "execution_count": 1,
   "id": "b48cd85e-e56d-41b8-94b2-69ac1b9ef605",
   "metadata": {},
   "outputs": [
    {
     "name": "stdout",
     "output_type": "stream",
     "text": [
      "Requirement already satisfied: findspark in c:\\users\\chand\\anaconda3\\lib\\site-packages (2.0.1)\n",
      "Note: you may need to restart the kernel to use updated packages.\n"
     ]
    }
   ],
   "source": [
    "pip install findspark"
   ]
  },
  {
   "cell_type": "code",
   "execution_count": 3,
   "id": "1e35112f-8ce6-4cbb-8b4a-e6c82d8dd795",
   "metadata": {},
   "outputs": [],
   "source": [
    "# Import findspark and initialise. \n",
    "import findspark\n",
    "findspark.init()"
   ]
  },
  {
   "cell_type": "code",
   "execution_count": 4,
   "id": "70d9d810-b38f-4cb3-986e-22d9ea46fe76",
   "metadata": {},
   "outputs": [],
   "source": [
    "# Start Spark session\n",
    "from pyspark.sql import SparkSession\n",
    "from pyspark.sql.functions import when\n",
    "spark = SparkSession.builder.appName(\"sparkFunctions\").getOrCreate()"
   ]
  },
  {
   "cell_type": "code",
   "execution_count": 5,
   "id": "6691a94c-4495-445b-bf86-522301aa508b",
   "metadata": {},
   "outputs": [
    {
     "name": "stdout",
     "output_type": "stream",
     "text": [
      "+---+---+---------------+---+-----------+------------+-----------+------+---------------+-------------+-----------+-----------------------+--------+-------------+----------+\n",
      "|Age|Sex|Chest pain type| BP|Cholesterol|FBS over 120|EKG results|Max HR|Exercise angina|ST depression|Slope of ST|Number of vessels fluro|Thallium|Heart Disease|Patient ID|\n",
      "+---+---+---------------+---+-----------+------------+-----------+------+---------------+-------------+-----------+-----------------------+--------+-------------+----------+\n",
      "| 70|  1|              4|130|        322|           0|          2|   109|              0|          2.4|          2|                      3|       3|     Presence|     31065|\n",
      "| 67|  0|              3|115|        564|           0|          2|   160|              0|          1.6|          2|                      0|       7|      Absence|     31606|\n",
      "| 57|  1|              2|124|        261|           0|          0|   141|              0|          0.3|          1|                      0|       7|     Presence|     32147|\n",
      "| 64|  1|              4|128|        263|           0|          0|   105|              1|          0.2|          2|                      1|       7|      Absence|     32688|\n",
      "| 74|  0|              2|120|        269|           0|          2|   121|              1|          0.2|          1|                      1|       3|      Absence|     33229|\n",
      "| 65|  1|              4|120|        177|           0|          0|   140|              0|          0.4|          1|                      0|       7|      Absence|     33770|\n",
      "| 56|  1|              3|130|        256|           1|          2|   142|              1|          0.6|          2|                      1|       6|     Presence|     34311|\n",
      "| 59|  1|              4|110|        239|           0|          2|   142|              1|          1.2|          2|                      1|       7|     Presence|     34852|\n",
      "| 60|  1|              4|140|        293|           0|          2|   170|              0|          1.2|          2|                      2|       7|     Presence|     35393|\n",
      "| 63|  0|              4|150|        407|           0|          2|   154|              0|          4.0|          2|                      3|       7|     Presence|     35934|\n",
      "| 59|  1|              4|135|        234|           0|          0|   161|              0|          0.5|          2|                      0|       7|      Absence|     36475|\n",
      "| 53|  1|              4|142|        226|           0|          2|   111|              1|          0.0|          1|                      0|       7|      Absence|     37016|\n",
      "| 44|  1|              3|140|        235|           0|          2|   180|              0|          0.0|          1|                      0|       3|      Absence|     37557|\n",
      "| 61|  1|              1|134|        234|           0|          0|   145|              0|          2.6|          2|                      2|       3|     Presence|     38098|\n",
      "| 57|  0|              4|128|        303|           0|          2|   159|              0|          0.0|          1|                      1|       3|      Absence|     38639|\n",
      "| 71|  0|              4|112|        149|           0|          0|   125|              0|          1.6|          2|                      0|       3|      Absence|     39180|\n",
      "| 46|  1|              4|140|        311|           0|          0|   120|              1|          1.8|          2|                      2|       7|     Presence|     39721|\n",
      "| 53|  1|              4|140|        203|           1|          2|   155|              1|          3.1|          3|                      0|       7|     Presence|     40262|\n",
      "| 64|  1|              1|110|        211|           0|          2|   144|              1|          1.8|          2|                      0|       3|      Absence|     40803|\n",
      "| 40|  1|              1|140|        199|           0|          0|   178|              1|          1.4|          1|                      0|       7|      Absence|     41344|\n",
      "+---+---+---------------+---+-----------+------------+-----------+------+---------------+-------------+-----------+-----------------------+--------+-------------+----------+\n",
      "only showing top 20 rows\n",
      "\n"
     ]
    }
   ],
   "source": [
    "# Read in data from S3 Buckets\n",
    "from pyspark import SparkFiles\n",
    "\n",
    "df = spark.read.load(\"Heart Disease - FOR GRAPHS.csv\", format=\"csv\", inferSchema=\"true\", header=\"true\")\n",
    "\n",
    "df.show()\n",
    "\n"
   ]
  },
  {
   "cell_type": "code",
   "execution_count": 8,
   "id": "a4b3b1d2-2bee-4ddc-ae47-10779d37c297",
   "metadata": {},
   "outputs": [
    {
     "name": "stdout",
     "output_type": "stream",
     "text": [
      "+---+------+---------------+---+-----------+------------+-----------+------+---------------+-------------+-----------+-----------------------+-----------------+-------------+----------+\n",
      "|Age|   Sex|Chest pain type| BP|Cholesterol|FBS over 120|EKG results|Max HR|Exercise angina|ST depression|Slope of ST|Number of vessels fluro|         Thallium|Heart Disease|Patient ID|\n",
      "+---+------+---------------+---+-----------+------------+-----------+------+---------------+-------------+-----------+-----------------------+-----------------+-------------+----------+\n",
      "| 70|Female|   asymptomatic|130|        322|       False|          2|   109|             No|          2.4|downsloping|                      3|reversable defect|     Presence|     31065|\n",
      "| 67|Female|   asymptomatic|115|        564|       False|          2|   160|             No|          1.6|downsloping|                      0|reversable defect|      Absence|     31606|\n",
      "| 57|Female|   asymptomatic|124|        261|       False|          0|   141|             No|          0.3|downsloping|                      0|reversable defect|     Presence|     32147|\n",
      "| 64|Female|   asymptomatic|128|        263|       False|          0|   105|             No|          0.2|downsloping|                      1|reversable defect|      Absence|     32688|\n",
      "| 74|Female|   asymptomatic|120|        269|       False|          2|   121|             No|          0.2|downsloping|                      1|reversable defect|      Absence|     33229|\n",
      "| 65|Female|   asymptomatic|120|        177|       False|          0|   140|             No|          0.4|downsloping|                      0|reversable defect|      Absence|     33770|\n",
      "| 56|Female|   asymptomatic|130|        256|       False|          2|   142|             No|          0.6|downsloping|                      1|reversable defect|     Presence|     34311|\n",
      "| 59|Female|   asymptomatic|110|        239|       False|          2|   142|             No|          1.2|downsloping|                      1|reversable defect|     Presence|     34852|\n",
      "| 60|Female|   asymptomatic|140|        293|       False|          2|   170|             No|          1.2|downsloping|                      2|reversable defect|     Presence|     35393|\n",
      "| 63|Female|   asymptomatic|150|        407|       False|          2|   154|             No|          4.0|downsloping|                      3|reversable defect|     Presence|     35934|\n",
      "| 59|Female|   asymptomatic|135|        234|       False|          0|   161|             No|          0.5|downsloping|                      0|reversable defect|      Absence|     36475|\n",
      "| 53|Female|   asymptomatic|142|        226|       False|          2|   111|             No|          0.0|downsloping|                      0|reversable defect|      Absence|     37016|\n",
      "| 44|Female|   asymptomatic|140|        235|       False|          2|   180|             No|          0.0|downsloping|                      0|reversable defect|      Absence|     37557|\n",
      "| 61|Female|   asymptomatic|134|        234|       False|          0|   145|             No|          2.6|downsloping|                      2|reversable defect|     Presence|     38098|\n",
      "| 57|Female|   asymptomatic|128|        303|       False|          2|   159|             No|          0.0|downsloping|                      1|reversable defect|      Absence|     38639|\n",
      "| 71|Female|   asymptomatic|112|        149|       False|          0|   125|             No|          1.6|downsloping|                      0|reversable defect|      Absence|     39180|\n",
      "| 46|Female|   asymptomatic|140|        311|       False|          0|   120|             No|          1.8|downsloping|                      2|reversable defect|     Presence|     39721|\n",
      "| 53|Female|   asymptomatic|140|        203|       False|          2|   155|             No|          3.1|downsloping|                      0|reversable defect|     Presence|     40262|\n",
      "| 64|Female|   asymptomatic|110|        211|       False|          2|   144|             No|          1.8|downsloping|                      0|reversable defect|      Absence|     40803|\n",
      "| 40|Female|   asymptomatic|140|        199|       False|          0|   178|             No|          1.4|downsloping|                      0|reversable defect|      Absence|     41344|\n",
      "+---+------+---------------+---+-----------+------------+-----------+------+---------------+-------------+-----------+-----------------------+-----------------+-------------+----------+\n",
      "only showing top 20 rows\n",
      "\n"
     ]
    }
   ],
   "source": [
    "#Gender type\n",
    "df = df.withColumn('Sex', when(df['Sex'] == 1, 'Male').otherwise('Female'))\n",
    "\n",
    "# Replace values in 'Chest pain type' column\n",
    "df = df.withColumn('Chest pain type', \n",
    "                   when(df['Chest pain type'] == 1, 'typical angina')\n",
    "                   .when(df['Chest pain type'] == 2, 'atypical angina')\n",
    "                   .when(df['Chest pain type'] == 3, 'non-anginal pain')\n",
    "                   .otherwise('asymptomatic'))\n",
    "\n",
    "#fasting Blood Sugar level\n",
    "df = df.withColumn('FBS over 120', when(df['FBS over 120'] == 1, 'True').otherwise('False'))\n",
    "\n",
    "# Doing Exercise Yes or No\n",
    "df = df.withColumn('Exercise angina', when(df['Exercise angina'] == 1, 'Yes').otherwise('No'))\n",
    "\n",
    "# the slope of the peak exercise ST segment\n",
    "df = df.withColumn('Slope of ST', \n",
    "                   when(df['Slope of ST'] == 1, 'upsloping')\n",
    "                   .when(df['Slope of ST'] == 2, 'flat')\n",
    "                   .otherwise('downsloping'))\n",
    "\n",
    "# Thallium defect\n",
    "df = df.withColumn('Thallium', \n",
    "                   when(df['Thallium'] == 3, 'normal')\n",
    "                   .when(df['Thallium'] == 6, 'fixed defect')\n",
    "                   .otherwise('reversable defect'))\n",
    "\n",
    "\n",
    "df.show()\n"
   ]
  },
  {
   "cell_type": "code",
   "execution_count": 11,
   "id": "ea458f30-67e3-4f5b-9da6-4c374778b4c5",
   "metadata": {},
   "outputs": [
    {
     "name": "stdout",
     "output_type": "stream",
     "text": [
      "\n",
      "DataFrame with Renamed Column:\n",
      "+---+------+---------------+---+-----------+-----------------------------+--------------------------+---------------+---------------+-------------+-----------+-----------------------+-----------------+-------------+----------+\n",
      "|Age|   Sex|Chest pain type| BP|Cholesterol|Fasting_Blood_Sugar_over_120 |Electrocardiogram_Results |Max_Heart_rate |Exercise angina|ST depression|Slope of ST|Number of vessels fluro|         Thallium|Heart Disease|Patient ID|\n",
      "+---+------+---------------+---+-----------+-----------------------------+--------------------------+---------------+---------------+-------------+-----------+-----------------------+-----------------+-------------+----------+\n",
      "| 70|Female|   asymptomatic|130|        322|                        False|                         2|            109|             No|          2.4|downsloping|                      3|reversable defect|     Presence|     31065|\n",
      "| 67|Female|   asymptomatic|115|        564|                        False|                         2|            160|             No|          1.6|downsloping|                      0|reversable defect|      Absence|     31606|\n",
      "| 57|Female|   asymptomatic|124|        261|                        False|                         0|            141|             No|          0.3|downsloping|                      0|reversable defect|     Presence|     32147|\n",
      "| 64|Female|   asymptomatic|128|        263|                        False|                         0|            105|             No|          0.2|downsloping|                      1|reversable defect|      Absence|     32688|\n",
      "| 74|Female|   asymptomatic|120|        269|                        False|                         2|            121|             No|          0.2|downsloping|                      1|reversable defect|      Absence|     33229|\n",
      "| 65|Female|   asymptomatic|120|        177|                        False|                         0|            140|             No|          0.4|downsloping|                      0|reversable defect|      Absence|     33770|\n",
      "| 56|Female|   asymptomatic|130|        256|                        False|                         2|            142|             No|          0.6|downsloping|                      1|reversable defect|     Presence|     34311|\n",
      "| 59|Female|   asymptomatic|110|        239|                        False|                         2|            142|             No|          1.2|downsloping|                      1|reversable defect|     Presence|     34852|\n",
      "| 60|Female|   asymptomatic|140|        293|                        False|                         2|            170|             No|          1.2|downsloping|                      2|reversable defect|     Presence|     35393|\n",
      "| 63|Female|   asymptomatic|150|        407|                        False|                         2|            154|             No|          4.0|downsloping|                      3|reversable defect|     Presence|     35934|\n",
      "| 59|Female|   asymptomatic|135|        234|                        False|                         0|            161|             No|          0.5|downsloping|                      0|reversable defect|      Absence|     36475|\n",
      "| 53|Female|   asymptomatic|142|        226|                        False|                         2|            111|             No|          0.0|downsloping|                      0|reversable defect|      Absence|     37016|\n",
      "| 44|Female|   asymptomatic|140|        235|                        False|                         2|            180|             No|          0.0|downsloping|                      0|reversable defect|      Absence|     37557|\n",
      "| 61|Female|   asymptomatic|134|        234|                        False|                         0|            145|             No|          2.6|downsloping|                      2|reversable defect|     Presence|     38098|\n",
      "| 57|Female|   asymptomatic|128|        303|                        False|                         2|            159|             No|          0.0|downsloping|                      1|reversable defect|      Absence|     38639|\n",
      "| 71|Female|   asymptomatic|112|        149|                        False|                         0|            125|             No|          1.6|downsloping|                      0|reversable defect|      Absence|     39180|\n",
      "| 46|Female|   asymptomatic|140|        311|                        False|                         0|            120|             No|          1.8|downsloping|                      2|reversable defect|     Presence|     39721|\n",
      "| 53|Female|   asymptomatic|140|        203|                        False|                         2|            155|             No|          3.1|downsloping|                      0|reversable defect|     Presence|     40262|\n",
      "| 64|Female|   asymptomatic|110|        211|                        False|                         2|            144|             No|          1.8|downsloping|                      0|reversable defect|      Absence|     40803|\n",
      "| 40|Female|   asymptomatic|140|        199|                        False|                         0|            178|             No|          1.4|downsloping|                      0|reversable defect|      Absence|     41344|\n",
      "+---+------+---------------+---+-----------+-----------------------------+--------------------------+---------------+---------------+-------------+-----------+-----------------------+-----------------+-------------+----------+\n",
      "only showing top 20 rows\n",
      "\n"
     ]
    }
   ],
   "source": [
    "# Rename the \"Age\" column to \"Years\"\n",
    "df_renamed = df\\\n",
    "    .withColumnRenamed(\"FBS over 120\", \"Fasting_Blood_Sugar_over_120 \")\\\n",
    "    .withColumnRenamed(\"EKG results\", \"Electrocardiogram_Results \")\\\n",
    "    .withColumnRenamed(\"Max HR\", \"Max_Heart_rate \")\n",
    "    \n",
    "\n",
    "# Display the DataFrame with renamed column\n",
    "print(\"\\nDataFrame with Renamed Column:\")\n",
    "df_renamed.show()"
   ]
  },
  {
   "cell_type": "code",
   "execution_count": 13,
   "id": "f2abe4d7-61b3-4aed-b34b-64355447e0bc",
   "metadata": {},
   "outputs": [],
   "source": [
    "# Path for saving the CSV file\n",
    "output_path = \"DataforGraph.csv\"\n",
    "\n",
    "# Save the DataFrame to CSV\n",
    "df.write.csv(output_path, header=True, mode=\"overwrite\")"
   ]
  },
  {
   "cell_type": "code",
   "execution_count": null,
   "id": "d6daab06-b0d5-4965-902f-e0ab789333e8",
   "metadata": {},
   "outputs": [],
   "source": []
  },
  {
   "cell_type": "code",
   "execution_count": null,
   "id": "d2576611-4be7-4daa-ba58-36df8912842e",
   "metadata": {},
   "outputs": [],
   "source": []
  },
  {
   "cell_type": "code",
   "execution_count": null,
   "id": "fb9c523d-98df-48c8-b9c1-28b69f23c3cf",
   "metadata": {},
   "outputs": [],
   "source": []
  },
  {
   "cell_type": "code",
   "execution_count": null,
   "id": "a20f4f6c-3e48-451f-a9a2-af730fbb7ab0",
   "metadata": {},
   "outputs": [],
   "source": []
  },
  {
   "cell_type": "code",
   "execution_count": null,
   "id": "5892e8f1-a500-4f95-bb0a-34b5aa4d47a0",
   "metadata": {},
   "outputs": [],
   "source": []
  },
  {
   "cell_type": "code",
   "execution_count": null,
   "id": "ffc517bc-fe98-4684-8407-75a1724aadd6",
   "metadata": {},
   "outputs": [],
   "source": []
  },
  {
   "cell_type": "code",
   "execution_count": null,
   "id": "1ee07c32-079d-417a-8482-62910219318f",
   "metadata": {},
   "outputs": [],
   "source": []
  },
  {
   "cell_type": "code",
   "execution_count": null,
   "id": "872e3fc3-74f3-4145-90f9-d0f6ffab2361",
   "metadata": {},
   "outputs": [],
   "source": []
  },
  {
   "cell_type": "code",
   "execution_count": null,
   "id": "05519520-a4a6-4583-a6cf-d2736734edfd",
   "metadata": {},
   "outputs": [],
   "source": []
  }
 ],
 "metadata": {
  "kernelspec": {
   "display_name": "Python 3 (ipykernel)",
   "language": "python",
   "name": "python3"
  },
  "language_info": {
   "codemirror_mode": {
    "name": "ipython",
    "version": 3
   },
   "file_extension": ".py",
   "mimetype": "text/x-python",
   "name": "python",
   "nbconvert_exporter": "python",
   "pygments_lexer": "ipython3",
   "version": "3.10.13"
  }
 },
 "nbformat": 4,
 "nbformat_minor": 5
}
